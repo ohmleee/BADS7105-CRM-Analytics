{
  "nbformat": 4,
  "nbformat_minor": 0,
  "metadata": {
    "colab": {
      "name": "Clustering Documents - Universal Sentence Encoder with Clustering.ipynb",
      "provenance": [],
      "collapsed_sections": []
    },
    "kernelspec": {
      "display_name": "Python 3",
      "language": "python",
      "name": "python3"
    },
    "language_info": {
      "codemirror_mode": {
        "name": "ipython",
        "version": 3
      },
      "file_extension": ".py",
      "mimetype": "text/x-python",
      "name": "python",
      "nbconvert_exporter": "python",
      "pygments_lexer": "ipython3",
      "version": "3.7.9"
    }
  },
  "cells": [
    {
      "cell_type": "markdown",
      "metadata": {
        "id": "WrQbd86APp-2"
      },
      "source": [
        "**Step 0 - install and import dependencies**"
      ]
    },
    {
      "cell_type": "code",
      "metadata": {
        "id": "bF2rn-l5Rp4U"
      },
      "source": [
        "!pip install pythainlp\n",
        "!pip install tensorflow_text\n",
        "!pip install umap-learn"
      ],
      "execution_count": null,
      "outputs": []
    },
    {
      "cell_type": "code",
      "metadata": {
        "id": "7GvuznzISB-h"
      },
      "source": [
        "import numpy as np\n",
        "import pandas as pd\n",
        "import re\n",
        "\n",
        "import tensorflow as tf\n",
        "import tensorflow_hub as hub\n",
        "import tensorflow_text\n",
        "import umap\n",
        "\n",
        "from sklearn.cluster import KMeans\n",
        "import matplotlib.pyplot as plt\n",
        "\n",
        "from sklearn.cluster import AgglomerativeClustering\n",
        "from sklearn.neighbors import kneighbors_graph\n",
        "\n",
        "import pythainlp\n",
        "from pythainlp.corpus.common import thai_words\n",
        "from pythainlp.util import Trie\n",
        "import collections\n"
      ],
      "execution_count": 2,
      "outputs": []
    },
    {
      "cell_type": "code",
      "metadata": {
        "id": "fUq1dSYcS5yM"
      },
      "source": [
        "module_url = 'https://tfhub.dev/google/universal-sentence-encoder-multilingual/3' #'https://tfhub.dev/google/universal-sentence-encoder-multilingual/3' for a large model\n",
        "\n",
        "model = hub.load(module_url)"
      ],
      "execution_count": 3,
      "outputs": []
    },
    {
      "cell_type": "code",
      "metadata": {
        "colab": {
          "base_uri": "https://localhost:8080/"
        },
        "id": "8q1fgqScDqvy",
        "outputId": "25cc2ea6-a596-4de6-f769-9c48abcdcdc0"
      },
      "source": [
        "from google.colab import drive\n",
        "drive.mount('/content/drive')"
      ],
      "execution_count": 5,
      "outputs": [
        {
          "output_type": "stream",
          "name": "stdout",
          "text": [
            "Mounted at /content/drive\n"
          ]
        }
      ]
    },
    {
      "cell_type": "code",
      "metadata": {
        "id": "dZiaG3R4b6kN"
      },
      "source": [
        "df = pd.read_csv(\"/content/drive/MyDrive/Colab Notebooks/Voice of customer/Wongnai Reviews - Small.csv\")"
      ],
      "execution_count": 6,
      "outputs": []
    },
    {
      "cell_type": "code",
      "metadata": {
        "colab": {
          "base_uri": "https://localhost:8080/",
          "height": 204
        },
        "id": "gonSv6i4cVs1",
        "outputId": "00f51c4f-9e0a-4c46-96bd-05ef5bb9a369"
      },
      "source": [
        "df.head()"
      ],
      "execution_count": 7,
      "outputs": [
        {
          "output_type": "execute_result",
          "data": {
            "text/html": [
              "<div>\n",
              "<style scoped>\n",
              "    .dataframe tbody tr th:only-of-type {\n",
              "        vertical-align: middle;\n",
              "    }\n",
              "\n",
              "    .dataframe tbody tr th {\n",
              "        vertical-align: top;\n",
              "    }\n",
              "\n",
              "    .dataframe thead th {\n",
              "        text-align: right;\n",
              "    }\n",
              "</style>\n",
              "<table border=\"1\" class=\"dataframe\">\n",
              "  <thead>\n",
              "    <tr style=\"text-align: right;\">\n",
              "      <th></th>\n",
              "      <th>Review ID</th>\n",
              "      <th>Review</th>\n",
              "    </tr>\n",
              "  </thead>\n",
              "  <tbody>\n",
              "    <tr>\n",
              "      <th>0</th>\n",
              "      <td>1</td>\n",
              "      <td>เป็นคนที่ชอบทาน Macchiato เป็นประจำ มีวันนึงเด...</td>\n",
              "    </tr>\n",
              "    <tr>\n",
              "      <th>1</th>\n",
              "      <td>2</td>\n",
              "      <td>Art of Coffee Kasetsart เป็นร้านกาแฟรสชาติเยี่...</td>\n",
              "    </tr>\n",
              "    <tr>\n",
              "      <th>2</th>\n",
              "      <td>3</td>\n",
              "      <td>กวงทะเลเผา อาหารทะเลเค้าสดจริงๆเนื้อปูหวานไม่ค...</td>\n",
              "    </tr>\n",
              "    <tr>\n",
              "      <th>3</th>\n",
              "      <td>4</td>\n",
              "      <td>วันนี้มีโอกาสตื่นเช้าครับเลยถึงโอกาสออกมาหาอะไ...</td>\n",
              "    </tr>\n",
              "    <tr>\n",
              "      <th>4</th>\n",
              "      <td>5</td>\n",
              "      <td>ชอบมาทานร้านนี้ถ้าอยากกินอาหารเวียดนามใกล้บ้าน...</td>\n",
              "    </tr>\n",
              "  </tbody>\n",
              "</table>\n",
              "</div>"
            ],
            "text/plain": [
              "   Review ID                                             Review\n",
              "0          1  เป็นคนที่ชอบทาน Macchiato เป็นประจำ มีวันนึงเด...\n",
              "1          2  Art of Coffee Kasetsart เป็นร้านกาแฟรสชาติเยี่...\n",
              "2          3  กวงทะเลเผา อาหารทะเลเค้าสดจริงๆเนื้อปูหวานไม่ค...\n",
              "3          4  วันนี้มีโอกาสตื่นเช้าครับเลยถึงโอกาสออกมาหาอะไ...\n",
              "4          5  ชอบมาทานร้านนี้ถ้าอยากกินอาหารเวียดนามใกล้บ้าน..."
            ]
          },
          "metadata": {},
          "execution_count": 7
        }
      ]
    },
    {
      "cell_type": "markdown",
      "metadata": {
        "id": "Oowl7VYeP3gK"
      },
      "source": [
        "**Step 1 - document embedding and dimension reduction**"
      ]
    },
    {
      "cell_type": "code",
      "metadata": {
        "colab": {
          "base_uri": "https://localhost:8080/"
        },
        "id": "e29WZmM4cCOS",
        "outputId": "6e982944-424b-4a8b-a41b-0788697d9fe2"
      },
      "source": [
        "#embed sentences using Universal Sentence Encoder (USE)\n",
        "\n",
        "embed_comments_array = model(df['Review'].values).numpy()\n",
        "embed_comments_array"
      ],
      "execution_count": 8,
      "outputs": [
        {
          "output_type": "execute_result",
          "data": {
            "text/plain": [
              "array([[ 0.08993827,  0.01941084,  0.03787038, ..., -0.03488849,\n",
              "         0.06299512,  0.04635989],\n",
              "       [ 0.00634244,  0.00814594,  0.03071941, ..., -0.01478723,\n",
              "        -0.03080936, -0.03316405],\n",
              "       [ 0.0633687 , -0.02027139, -0.05077003, ..., -0.06530775,\n",
              "        -0.00952999, -0.03439987],\n",
              "       ...,\n",
              "       [ 0.08775924,  0.03609736,  0.01263062, ..., -0.03102781,\n",
              "        -0.03361677,  0.01928871],\n",
              "       [ 0.05691195,  0.05381691, -0.0399575 , ..., -0.06598807,\n",
              "        -0.05390478, -0.01037725],\n",
              "       [ 0.0777048 ,  0.05080631,  0.02680681, ..., -0.0061413 ,\n",
              "        -0.01313567,  0.02236264]], dtype=float32)"
            ]
          },
          "metadata": {},
          "execution_count": 8
        }
      ]
    },
    {
      "cell_type": "code",
      "metadata": {
        "id": "5gps1fE8ctMQ"
      },
      "source": [
        "#reduce array dimensions using umap (you can chagne n_components)\n",
        "\n",
        "#reducer = umap.UMAP(random_state=42,n_components=50)\n",
        "reducer = umap.UMAP(random_state=42,n_components=200)\n",
        "umap_embed_comments_array = reducer.fit_transform(embed_comments_array)"
      ],
      "execution_count": 318,
      "outputs": []
    },
    {
      "cell_type": "markdown",
      "metadata": {
        "id": "s5qq2RQlQJbV"
      },
      "source": [
        "**Step 2 - document clustering using KMeans**"
      ]
    },
    {
      "cell_type": "code",
      "metadata": {
        "colab": {
          "base_uri": "https://localhost:8080/",
          "height": 312
        },
        "id": "2IkMb1UIF3k5",
        "outputId": "5614f803-975a-4121-bcd5-225322f5168c"
      },
      "source": [
        "#run kmeans with various number of k. evaluate no. of k based on the elbow plot\n",
        "\n",
        "wcss=[]\n",
        "max_k = 10\n",
        "for i in range(1, max_k):\n",
        "  kmeans = KMeans(i)\n",
        "  kmeans.fit(umap_embed_comments_array)\n",
        "  wcss_iter = kmeans.inertia_\n",
        "  wcss.append(wcss_iter)\n",
        "\n",
        "number_clusters = range(1, max_k)\n",
        "plt.plot(number_clusters,wcss)\n",
        "plt.title('The Elbow title')\n",
        "plt.xlabel('Number of clusters')\n",
        "plt.ylabel('WCSS')"
      ],
      "execution_count": 319,
      "outputs": [
        {
          "output_type": "execute_result",
          "data": {
            "text/plain": [
              "Text(0, 0.5, 'WCSS')"
            ]
          },
          "metadata": {},
          "execution_count": 319
        },
        {
          "output_type": "display_data",
          "data": {
            "image/png": "[encoded data removed]",
            "text/plain": [
              "<Figure size 432x288 with 1 Axes>"
            ]
          },
          "metadata": {
            "needs_background": "light"
          }
        }
      ]
    },
    {
      "cell_type": "code",
      "metadata": {
        "id": "1o0czkMVdSJ5"
      },
      "source": [
        "#run kmeans with no. of clusters you see fit the most\n",
        "\n",
        "k = 3\n",
        "\n",
        "kmeans = KMeans(n_clusters = k)\n",
        "kmeans.fit(umap_embed_comments_array)\n",
        "\n",
        "df['KMeans ID'] = kmeans.labels_"
      ],
      "execution_count": 357,
      "outputs": []
    },
    {
      "cell_type": "code",
      "metadata": {
        "id": "bf3R2QBr3oOq"
      },
      "source": [
        "#merge all reviews of each cluster into one big sentence \n",
        "\n",
        "df_kmeans = pd.DataFrame(columns=[\"KMeans ID\", \"texts\"])\n",
        "\n",
        "\n",
        "for i in range(0, k):\n",
        "  row = []\n",
        "  row.append(i)\n",
        "  row.append(df['Review'][df['KMeans ID'] == i].to_string())\n",
        "  df_kmeans.loc[len(df_kmeans)] = row"
      ],
      "execution_count": 358,
      "outputs": []
    },
    {
      "cell_type": "code",
      "metadata": {
        "colab": {
          "base_uri": "https://localhost:8080/",
          "height": 142
        },
        "id": "UFo_nqQEL08U",
        "outputId": "2d169102-76a6-4bea-a771-2fe7687e2ed6"
      },
      "source": [
        "df_kmeans"
      ],
      "execution_count": 359,
      "outputs": [
        {
          "output_type": "execute_result",
          "data": {
            "text/html": [
              "<div>\n",
              "<style scoped>\n",
              "    .dataframe tbody tr th:only-of-type {\n",
              "        vertical-align: middle;\n",
              "    }\n",
              "\n",
              "    .dataframe tbody tr th {\n",
              "        vertical-align: top;\n",
              "    }\n",
              "\n",
              "    .dataframe thead th {\n",
              "        text-align: right;\n",
              "    }\n",
              "</style>\n",
              "<table border=\"1\" class=\"dataframe\">\n",
              "  <thead>\n",
              "    <tr style=\"text-align: right;\">\n",
              "      <th></th>\n",
              "      <th>KMeans ID</th>\n",
              "      <th>texts</th>\n",
              "    </tr>\n",
              "  </thead>\n",
              "  <tbody>\n",
              "    <tr>\n",
              "      <th>0</th>\n",
              "      <td>0</td>\n",
              "      <td>2      กวงทะเลเผา อาหารทะเลเค้าสดจริงๆเนื้อปูห...</td>\n",
              "    </tr>\n",
              "    <tr>\n",
              "      <th>1</th>\n",
              "      <td>1</td>\n",
              "      <td>0      เป็นคนที่ชอบทาน Macchiato เป็นประจำ มีว...</td>\n",
              "    </tr>\n",
              "    <tr>\n",
              "      <th>2</th>\n",
              "      <td>2</td>\n",
              "      <td>13     เคยเป็นไหมกันไหมคะ หลังอาหารมื้อใหญ่ ต่...</td>\n",
              "    </tr>\n",
              "  </tbody>\n",
              "</table>\n",
              "</div>"
            ],
            "text/plain": [
              "  KMeans ID                                              texts\n",
              "0         0  2      กวงทะเลเผา อาหารทะเลเค้าสดจริงๆเนื้อปูห...\n",
              "1         1  0      เป็นคนที่ชอบทาน Macchiato เป็นประจำ มีว...\n",
              "2         2  13     เคยเป็นไหมกันไหมคะ หลังอาหารมื้อใหญ่ ต่..."
            ]
          },
          "metadata": {},
          "execution_count": 359
        }
      ]
    },
    {
      "cell_type": "code",
      "metadata": {
        "colab": {
          "base_uri": "https://localhost:8080/"
        },
        "id": "cWzm1y3EIQD_",
        "outputId": "6b2f7b67-0d3d-4a42-dd09-8d5b70488613"
      },
      "source": [
        "for i in range(len(df_kmeans)):\n",
        "  print(df_kmeans.iloc[i].texts+'\\n')"
      ],
      "execution_count": 360,
      "outputs": [
        {
          "output_type": "stream",
          "name": "stdout",
          "text": [
            "2      กวงทะเลเผา อาหารทะเลเค้าสดจริงๆเนื้อปูหวานไม่ค...\n",
            "3      วันนี้มีโอกาสตื่นเช้าครับเลยถึงโอกาสออกมาหาอะไ...\n",
            "4      ชอบมาทานร้านนี้ถ้าอยากกินอาหารเวียดนามใกล้บ้าน...\n",
            "6      สวัสดีเพื่อนๆสมาชิกนักรีวิวร้านอาหารชาว Wongna...\n",
            "9      ร้านส้มตำเจ๊พิมอยู่ถนนเลี่ยงตลาดหนองมน\\nเป็นร้...\n",
            "14     ตอนเย็นๆหน่อยถ้าลงจากรถไฟฟ้าราชเทวีแล้วเดินย้อ...\n",
            "17     แมทช์นี้ที่หัวหิน... ระหว่างที่ยังตกลงว่าทานกล...\n",
            "22     ขอไปกินกับเค้าบ้างเหอะ แหม อยู่ใกล้บ้านตั้งขนา...\n",
            "25     มีคนแนะนำมาว่าต้องร้านนี้ \\nเลยขอลองสักหน่อย ไ...\n",
            "35     ร้านนี้ ใครๆก็รู้จักว่าเป็นร้านกาแฟ แต่อาหารขอ...\n",
            "36     ร้านตกแต่งน่ารักมาก สไตล์นั่งอยู่ในบ้านก็จะมีข...\n",
            "38     ร้านนี้เป็นของดาราตลกชื่อดังค่ะ คุณหม่ำนั่นเอง...\n",
            "41     ร้านอาหารเรื่อนปั้นหยา ที่จอดรถกว้างขวางสะดวกส...\n",
            "46     ร้านอาหารไทยฟิวชั่น อร่อย สะอาด แต่ราคาสูงไปนิ...\n",
            "49     สาระพัดยำ แบบแซ่บๆ ราคาไม่แพง\\n\\nร้านยำแซ่บ สา...\n",
            "56     เป็นร้านที่ได้ผักเยอะมากกกกกกกกกกก อร่อยคุ้มรา...\n",
            "60     ร้านก๋วยเตี๋ยว 22 เป็นร้านเก่าแก่ ครองใจคนชลบุ...\n",
            "65     ใครรักข้าวห่อไข่ มาจานนี้จะจุใจมาก เพราะเมนูเก...\n",
            "69     ร้านเชฟมด รอบนี้มาจัดเป็นรอบที่สอง หลังจากถูกใ...\n",
            "71     จริงๆจะไปกินร้านอื่นครับที่อยู่ในซอยเดียวกัน แ...\n",
            "73     มีใครทำงานหรืออาศัยในย่านธุรกิจอย่างสุขุมวิทบ้...\n",
            "75     โดยส่วนตัวแล้วไปทานที่ร้านแบล๊กแคนยอนที่สาขารา...\n",
            "76     มาถึงเมืองชลอีกครั้งค่า จาไปพัทยา แต่มอเตอร์เว...\n",
            "77     ร้านจะเป็นร้านนั่งแทบจะติดทะเลเลยนะคะ อารมณ์ชา...\n",
            "79     มาคนเดียว เดินเลือกอยู่นาน อยากกินอะไรที่ไม่อ้...\n",
            "82     ที่บอกว่าขอลบดาวออก 1 ดวง เพราะว่าคราวก่อนเคยม...\n",
            "86     ร้านขายเป็ดห่านพะโล้เก่าแก่ เขาเคลมว่าไม่มีสาข...\n",
            "88     มีทั้งอาหารไทยและอาหารอีสานให้เลือกทาน เมนูหลา...\n",
            "95     กราบขออภัยสำหรับ...คำพูด แต่ผมมีความรู้สึกอย่า...\n",
            "96     ขับรถเข้ามาในซอยโรงพยาบาลสมิติเวช (สุขุมวิท 49...\n",
            "98     ระหว่างหนีการต่อคิวยาวเหยียดจากร้านอาหารชื่อดั...\n",
            "99     อุดรมีร้านขายอาหารเช้าหลายร้าน แต่ละร้านก็จะมี...\n",
            "102    เวลาพักเที่ยงนี่ ร้านอาหารที่ไหนๆคนก็เต็มไปหมด...\n",
            "105    ร้านกินดื่มแบบญี่ปุ่น หรืออิซากายะ เป็นร้านอาห...\n",
            "109    ร้านนี้โฆษณาว่า มีเบียร์แช่เย็นเป็นวุ้น ขายด้ว...\n",
            "111    เรามากินร้านนี้เพราะใกล้บ้านแล้วร้านก็สวยดี เล...\n",
            "112    น้องสาวแนะนำมาว่าขนมจีนน้ำย้อยอร่อยเด็ดเลยเจ่ ...\n",
            "113    อาหารอร่อย หลากหลายเมนู ส้มตำอร่อย มีความเผ็ดห...\n",
            "114    เป็นสาขาที่ทานบ่อยมาก เพราะสาขานี้จะปิดเที่ยงค...\n",
            "116    \\n---------เกริ่นๆ\\n\\nคือเมาไง เด็กๆอย่าเอาเป็...\n",
            "123    สวัสดีเพื่อนๆนักรีวิวร้านอาหาร ชาวWongnai.comท...\n",
            "124    ร้านไข่กระทะเลิศรสร้านนี้ตั้งอยู่ที่ถนนพระปกเก...\n",
            "125    รสชาติน้ำยาปลาช่อน แกงไก่ แบบชาวเหนือที่แตกต่า...\n",
            "128    ข้ามน้ำข้ามถิ่นปั่นจักรยานกันมาถึงหัวหินในวันน...\n",
            "129    มื้อเที่ยงฝากท้องไว้กับร้านนี้ค่ะ ไม่ไกลจากที่...\n",
            "135    ร้านนี้อยูในซอยตรงข้ามไปรษณีย์กลาง เข้ามากินทด...\n",
            "136    สวัสดีค่ะ ไม่รีรอเครื่องกำลังร้อน ว้าวววว !! ง...\n",
            "138    เป็นคำถามยอดฮิต เวลาไปไหนคือ กินอะไรดี แล้วยิ่...\n",
            "140    ร้านนี้เปิดมานานพอควร เพียงแต่อยู่ในทำเลค่อนข้...\n",
            "141    ผมเคยไปอาศัยอยู่ที่จีนมาพักนึง เลยค่อนข้างจะคุ...\n",
            "142    เห็นว่าใกล้ทึ่ทำงาน เลยลองดูค่ะ ครั้งแรก ลองมื...\n",
            "144    วันที่ไปทานเป็น Brunch set ค่ะ ราคาก็ต่างกันตั...\n",
            "145    แวะมาทานอาหาร โดยทางร้านมีให้เลือกทั้ง\\n- อาหา...\n",
            "149    จอดรถริมถนนหน้าร้าน ไม่ต้องกังวลที่เหลือเฟือเพ...\n",
            "150    เป็นร้านแรกที่รู้จักว่ามีเครื่องดื่มนี้ด้วย\\n\\...\n",
            "154    สาขานี้พนักงานเยอะครับ แต่ไม่ค่อยจะเห็นเวลาลูก...\n",
            "155    ร้านอาหารญี่ปุ่นร้านนี้ ใจจริงไม่อยากแนะนำเลยค...\n",
            "157    หากพูดถึงร้านนี้ ทุกคนอาจจะนึกถึงแต่กาแฟ/เครื่...\n",
            "159    ร้านนี้ไปมาหลายรอบแล้ว ยังอร่อยเหมือนเดิมค่ะ ม...\n",
            "160    ร้าน mango tree silom เป็นร้านอาหารไทย ในเครือ...\n",
            "162    ใครที่เคยแวะเวียนไปแถวซอยอารียสัมพันธ์คงจะรู้ก...\n",
            "163    หลังจากไปเที่ยวปีใหม่กลับมา คุณชายร่ำร้องอยากก...\n",
            "164    ในโครงการ pure place ราชพฤกษ์ มีร้านอาหารอยู่ไ...\n",
            "167    มีโอกาสได้ไปสวนผึ้งก็หลายครั้ง เพิ่งเคยได้ไป ล...\n",
            "168    ร้านนี้หาไม่ยาก ถ้ามาจากแมคโครจะอยู่ตรงหัวมุมส...\n",
            "171    ร้านเป็ดย่างเก่าแก่ของตลาดร้อยปี เนื้อเป็ดนุ่ม...\n",
            "172    ร้านนี้มากินตามดีลเวปดีลชื่อดังค่ะ (ราคาดีล 19...\n",
            "177    ร้านแบบสไตล์ย้อนยุคไทยๆโบราณ โทนสีเขียว ไฟสลัว...\n",
            "181    เป็นร้านสุดโปรด เพิ่งเปลี่ยนชื่อจาก The Third ...\n",
            "184    ร้านอาหารพิงงา\\nเพิ่งเปิดใหม่ อยู่หน้าโรงแรมปา...\n",
            "185    ร้านรังนกไทย เจ้าเก่าตลาดอนุสาร สาขา2 \\nร้านนี...\n",
            "186    อาหารพื้นบ้านและอาหารป่า รสชาติเผ็ดแซ่บเวอร์ แ...\n",
            "188    ร้านแบล็คแคนยอนมีหลายสาขามาก นอกจากกาแฟแล้วยัง...\n",
            "191    สืบเนื่องเมื่ออาทิตย์ที่แล้ววันธรรมดา ผมต้องมี...\n",
            "195    ส้มตำสมุทรปราการ มีร้านอร่อยเด็ด ๆ อยู่หลายร้า...\n",
            "196    เมนูเส้นๆวันนี้ มาจัดก๋วยเตี๋ยวเรืออยุธยากันกั...\n",
            "197    ส้มตำอร่อยนะ ถ้าใครชอบรสจัด ตอนสั่ง สั่งปูปลาร...\n",
            "202    รายละเอียดร้าน ตามรีวิวท่านอื่นๆ เลยนะคะ\\n\\nรา...\n",
            "203    ซดกาแฟกันไปเรียบร้อยแล้ว ต่อไปมาซดก๋วยเตี๋ยวกั...\n",
            "204    สวัสดีเพื่อนๆพี่ๆชาวนักชิมแห่ง wongnai.com ทุก...\n",
            "207    เมื่อเราต้องการหาอาหารแถวเมืองพัทยาทานแบบง่ายๆ...\n",
            "210    ถ้าอยากกินข้าวห่อไข่จะนึกถึงร้านนี้เป็นร้านแรก...\n",
            "214    วันนี้นายลักกี้จะมารีวิวร้านอาหารง่ายๆ ที่มีขา...\n",
            "220    เนื่องด้วยวันนี้ไปเดินเล่นมาเดินไปเดินมาก็บ่าย...\n",
            "222    เพิ่งสังเกตเห็นว่า toast box แอบมาเปิดร้านที่ ...\n",
            "224    วันนี้ไปทำบุญกับที่บ้าน อิ่มบุญกันไป \\nหลังจาก...\n",
            "226    ร้านตั้งอยู่ชั้นล่าง ของโลตัส ศาลายา\\nอยู่เยื้...\n",
            "227    ถ้าพูดถึงกาแฟ ร้าน Black Canyon คงเป็นร้านแรกๆ...\n",
            "230    บรรยากาศสงบ ชิวๆ เห็นวิวทะเลด้วยครับ พนักงานยิ...\n",
            "232    ถ้านึกถึงเมนูที่อิ่มแล้วไม่อ้วน ส่วนมากผมจะนึก...\n",
            "235    จากพังงา โคกกลอย จะเดินทางไปภูเก็ต จะเห็นร้านอ...\n",
            "240    ร้านOISHI buffet อยู่ชั้น 7 เซ็นทรัลพระราม9\\n4...\n",
            "243    ก่อนอื่นเลยต้องขอบอกว่านี่คือรีวิวแรกในปีนี้ขอ...\n",
            "244    แวะมาทานหลายรอบแล้วค่ะ อร่อยติดใจในรสชาติแบบนี...\n",
            "245    จำได้ว่าผมมากินครั้งแรกนานมากแล้ว ร้านยังไม่ให...\n",
            "246    ด้วยความที่ช่วงนี้เป็นเทศกาลปีใหม่ ร้านจึงปิดก...\n",
            "248    ร้านอาหารและกาแฟ บรรยากาศสงบ หลบความวุ่นวายบนท...\n",
            "249    ล่วงเลยวันเกิดเพื่อนสนิทอีกคนมานานมากกกก \\n(คื...\n",
            "252    ตั้งท่าจะไปกินมานานแล้ว พอดีเพื่อนฝรั่งที่เคยท...\n",
            "254    ด้วยคอนเซ็ปของอาหารที่แปลกแหวกแนว\\nเลยต้องขอโด...\n",
            "255    วันนี้ดิช้ันมาทบนอาหารเวลา5 โมงเย็น ที่ร้านแม่...\n",
            "257    ร้านส้มตำโปงลางเป็นอีกร้านหนึ่งที่ค่อนข้างมีชื...\n",
            "260    ราคาค่อนข้างแพง (479/คน)\\nแต่มันหลากหลายมากๆ ไ...\n",
            "261    ร้านนี้เป็นอีกร้านนึงในซอยลิตเติ้ลไพน์หรือซอยห...\n",
            "262    ร้านอาหารใหญ่มากกกกกกก \\nเลี้ยวเข้ามาเจอห้องน้...\n",
            "264    สำหรับร้านนี้นั้นอยู่ในวัดด่าน ถนนพระราม 3 ครั...\n",
            "265    ก่อนอื่น พูดถึงรสชาติของบุฟเฟ่ต์ก็ต้องบอกว่าเฉ...\n",
            "268    ร้านอาหาร สวนผัก โอ้กะจู๋ ร้านนี้เป็นร้านที่หล...\n",
            "270    ร้านยำแซ่บอยู่ชั้น6 ห้างเซ็นทรัลพระราม9\\nร้านส...\n",
            "273    ครั้งแรก ก็ love เลย ไม่บอกอย่างนี้คงไม่ได้ ร้...\n",
            "274    เห็นหลายคนบอกว่าอร่อยอ้ะนะ เลยมาชิมมาชมมาช้อปไ...\n",
            "275    เห็นรีวิว เลยมาลองทาน ร้านอยู่ไม่ไกลจากบ้าน\\nร...\n",
            "276    ร้านตำแหล เป็นร้านส้มตำของเหล่าดาราในดวงใจ คุณ...\n",
            "282    เป็นความบังเอิญเอามากๆที่ได้มาพบร้านอาหารที่รส...\n",
            "286    สวัสดีค่ะ ชื่อร้านนี้อาจจะน่ากลัวสักหน่อยนะคะ ...\n",
            "289    อร่อยดีครับ เพิ่งมาครั้งแรกขับรถหลงๆ มาเห็นร้า...\n",
            "291    ร้านนี้เป็นหนึ่งในความตั้งใจว่า อยากจะทำเรื่อง...\n",
            "293    ร้านนี้หาไม่ยากครับ อยู่ที่ปากซอย6 ถนนนิมมาน \\...\n",
            "295    ค่ำนี้คุณเพื่อนอยากส้มตำ หมูเฮาเลยพากันลงมากิน...\n",
            "\n",
            "0      เป็นคนที่ชอบทาน Macchiato เป็นประจำ มีวันนึงเด...\n",
            "1      Art of Coffee Kasetsart เป็นร้านกาแฟรสชาติเยี่...\n",
            "5      เป็นร้านที่สะดุดตาที่สุดบนถนนจรัญ เลยก็ว่าได้ ...\n",
            "7      Starbucks \\nเกี่ยวกับร้าน: \\nร้าน Starbucks นี...\n",
            "8      \\nร้านเบอเกอรี่ร้านนี้อยู่ในร้านล้างรถชื่อว่า ...\n",
            "10     สถานที่ตั้งร้าน ปากซอยสุขุมวิท 38 บริเวณ ด้านซ...\n",
            "11     โลตัสพัฒนาการมีร้านชีทเค้กน่าหม่ำอยู่ร้านนึงค่...\n",
            "12     ร้านกาแฟและเบเกอรี่โฮมเมดอร่อยๆ กับสไสต์การแต่...\n",
            "15     ร้าน 1-cake ร้านกาแฟแอนด์เบเกอรี่ เป็นร้านกาแฟ...\n",
            "16     ไปทานมาเพราะเห็นเปิดแบบบุฟเฟต์ทุกวันเสาร์อาทิต...\n",
            "18     เคยทานทองม้วนสดมาหลายร้านแล้ว \\nถ้าจะทานแบบอร่...\n",
            "19     ร้านกาแฟร้านนี้ เมื่อเข้าไปแล้วบรรยายกาศจะออกแ...\n",
            "21     ร้านอาหารและเครื่องดื่ม ที่ราคาเป็นกันเองมากๆ ...\n",
            "24     านพายจริณ เป็นร้านคาเฟ่และเบเกอรี่เล็กๆที่มีสา...\n",
            "26     คิดถึงร้านนี้มาก สมัยเรียนพิเศษที่ดาวองก์เยาวร...\n",
            "27     เดือนแรกที่เค้าต่อคิวกัน 2 - 3 ชั่วโมง เราก็ว่...\n",
            "28     หันไปหันมา อยากไปแตะขอบฟ้าบ้างอะไรบ้าง จะไปถึง...\n",
            "32     ร้านกาแฟนรสิงห์ ณ วังพญาไท\\n\\nได้ยินชื่อร้านกา...\n",
            "33     ร้านนี้เป็นร้านกาแฟแนวน่ารักแนวๆ ขายกาแฟก็แนวๆ...\n",
            "37     ร้านใหม่พึ่งเปิดได้ 3 เดือน เลยมาลองดู ไม่ผิดห...\n",
            "39          ร้านนี้เป็นอีกร้านที่ติดใจเพราะเคยได้ลองท...\n",
            "40     มาช๊อปปิ้งในห้าง และเอารถมาล้างที่โปรคลีน ประว...\n",
            "43     ปกติมาแถวนี้กินแต่stbลองวิสต้าคาเฟ่บ้าง. ชอบบร...\n",
            "45     เหมือนร้านจะย้ายมาจากใต้ดิ อิมเพรสป่าว ไม่มั่น...\n",
            "48     นัดกับรุ่นน้องไว้ว่าจะพาไปเลี้ยงและอยากทานกาแฟ...\n",
            "50     ส่วนตัวชอบทานกาแฟยี่ห้อนี้อยุ่ด้วย ผมว่ากลิ่นห...\n",
            "51     ร้านนี้น่าจะเป็น Cat Cafe ร้านแรกของประเทศไทย ...\n",
            "52     ปังภูเขาไฟ กับอ่กาศร้อนๆ เข้ากันฝุดๆ\\nหวานๆอร่...\n",
            "53     ระหว่างรอจัดงานลอยกระทง เลยมานั่งพักดื่มกาแฟสั...\n",
            "54     มองจากภาพนอกร้าน คนที่เดินผ่านไปมาคงเห็นว่าร้า...\n",
            "55     สวัสดีค่ะ ทานมื้อกลางวันแล้วก็มาทานกาแฟกันต่อเ...\n",
            "57     เอ๊ะ!! ขับรถผ่านนเจอมุมสงบร้านกาแฟเหมือนสวนนั่...\n",
            "59     SipnSurf ~ The inspiration coffee\\n\\nร้านนี้อย...\n",
            "62     ต้องมาทำงานที่เซ็นทรัล พอจอดรถเสร็จระหว่างเดิน...\n",
            "63     เข้าวังไปจิบกาแฟกันนะครับ บอกได้เลยว่า มาร้านน...\n",
            "64     ร้านกาแฟอเมซอน มีหลายสาขาครับ\\nแต่ที่แนะนำ คือ...\n",
            "67     มาครั้งแรกจะไปตัดสินใจอะไรได้น้อ ผมเดินจากลานจ...\n",
            "68     โดยส่วนตัวชอบ Ice caramel macchiato ที่สุดเพรา...\n",
            "70     สารภาพว่าไม่เคยคิดจะไปต่อคิวซื้อมากินเองครับ บ...\n",
            "72     \\n\\n------------เกริ่นๆๆ \\n\\nทริปลงใต้ครั้งนี้...\n",
            "78     มีโอกาสได้ไปกินไอติมที่ร้านนี้มา ชอบตั้งแต่การ...\n",
            "80     ชอบพาย ต้องร้านนี้  มีพายหลากหลายแบบและรสชาติ ...\n",
            "81     เป็นร้านอาหารเช้า มีโจ๊กหมู หมี่ซั่ว เกาเหลาเล...\n",
            "83     การไปกินเริ่มจากอากาศร้อนเลยไปหาที่นั่งเล่นชิล...\n",
            "85     ตอนแรกนึกว่าไม่อร่อยเลยลองเล่นๆ ปรากฎ อร่อยมาก...\n",
            "89     ผมเห็นรีวิวจากคุณ RiceMango ผมก็หาโอกาสว่างตาม...\n",
            "91     ร้านกาแฟร้านนี้เป็นอีกร้านนึงที่เราเห็นคนแวะมา...\n",
            "92     ร้านเค๊กที่ถูกพูดถึงอย่างมากเรียกได้ว่าป๊อปมาก...\n",
            "94     ไม่รู้จักบางอ้อ แต่พอได้เจอที่นี้ก็ถึงบางอ้อกั...\n",
            "100    ตอนอยู่มหาวิทยาลัย เป็นที่ประจำเลยสำหรับร้านบ้...\n",
            "101    ร้านนี้เป็นร้านกาแฟสดบรรยากาศสบายๆออกแนวอิงธรร...\n",
            "103    เกี่ยวกับร้าน Near River Golden triangle: \\nร้...\n",
            "104    ร้านสีชมพูหวานแหววสะดุดตาที่สยามพารากอนชั้น 4 ...\n",
            "108    บ้านไร่กาแฟอยู่ตรงBTS เอกมัย ร้านใหญ่พอสมควรเล...\n",
            "110    ถ้วยกาแฟสีส้มมีข้อความที่มาที่ไปของกาแฟของทางร...\n",
            "115    ทานกาแฟแก้ง่วงในยามบ่าย ที่ร้าน lord of coffee...\n",
            "118    สวัสดีเพื่อนๆชาววงใน ในวันจันทร์ที่ 16 ก.ค. นะ...\n",
            "119    กาแฟของ Art of Coffee อาจจะไม่ถูกใจ\\nคนที่ชอบท...\n",
            "120    ร้านอยู่ติดริมบึง บรรยากาศดูหรูดีครับ เฟอร์นิเ...\n",
            "126    ร้านสีขาวดูสะอาดตามากๆ โต๊ะกับเก้าอี้อาจจะยังไ...\n",
            "127    ร้านนี้เป็นร้านกาแฟที่เห็นแล้วสะดุดตามาก เพราะ...\n",
            "130    ตกกลางคืนผมก็อยากหาทานขนมปังและของหวานซักหน่อย...\n",
            "139    เราชอบแวะไปซื้ออาหารแช่เเข็งที่ร้านCP แถวซอยหม...\n",
            "143    ร้านเค้ก กาแฟ และอาหารที่น่านั่งอีกร้านหนึ่งตั...\n",
            "147    มาแบบงงๆ หายากนิดนึง แต่ถ้าหาเจอแล้วไม่ผิดหวัง...\n",
            "151    เขาเล่าว่า ร้านนี้ถือว่าเป็น คาเฟ่ ร้านแรกของป...\n",
            "153    เรื่องขนม ไม่ค่อยสันทัด ดังนั้นขอreviewเฉพาะเร...\n",
            "156    ทุกเช้าของวันเสาร์เราจะต้องไปซื้อ กาแฟ สตาร์บั...\n",
            "158    บรรยากาศร้านกาแฟที่เก๋มาก ตกแต่งสไตล์แขกๆๆ เข้...\n",
            "161    ร้านกาแฟบ้านบางอ้อ เป็นร้านกาแฟที่ดูสบายๆ\\nหาร...\n",
            "165    ร้านกาแผนรสิงห์ ณ วังพญาไท กับบรรยากาศคลาสสิค ...\n",
            "169    ร้านนี้อยู่ชั้นG ของพารากอน อยู่ติดกับสเวนเซ่น...\n",
            "170    ร้านน่ารักมากคะ สะอาด มีการดูแลน้องแมวอย่างดี ...\n",
            "174         พอดีแวะมาจากโรงพยาบาลสงฆ์ นึกขึ้นได้ว่าอย...\n",
            "178    แวะกินกาแฟอเมซอน ปั้ม ปตท.เกื้อสกุล จิบพอกระหา...\n",
            "179    มาต่อกันที่ร้านอาหารอีสานกันนะคะ กับที่รี่ค่ะ ...\n",
            "180    เด่นสุดของร้านคงเป็น  ชุดโต๊ะเก้าอี้ สีสันเด่น...\n",
            "182    เปนร้านกาแฟที่มานั่งเล่นแล้วรู้สึกสบายใจจิงๆ แ...\n",
            "183      วิสต้าคาเฟ่ อยู่ติดกับร้านวีราสุ ที่เน้นขายเ...\n",
            "187    การสั่งกาแฟ และ เค๊ก ตล้ายๆกับ Starbuck \\nคือ ...\n",
            "193    ห้องแอร์ กว้างขวาง สมราคารสชาติเข้มข้น พอดีดื่...\n",
            "194    หาที่นั่งพักรอรอบหนัง มองไปมองมาร้านนี้เป็นร้า...\n",
            "198    มาลองร้านนี้เป็นครั้งแรก ภายนอกตกแต่งสไตล์บ้าน...\n",
            "199    เปิดได้ยังไม่ถึงเดือน ตกแต่งร้านสวยดี มีโซนเอ้...\n",
            "201    เช้านี้เกิดอยากทานข้าวแกงใต้ เหมือนทุกอย่างจะเ...\n",
            "205    ร้านกาแฟในวัง ตั้งแต่สมัย รัชกาลที่ 6 ร้านนี้เ...\n",
            "206    ร้านกาแฟร่ำเปิงร้านนี้ตั้งอยู่ไม่ไกลกับวัดร่ำเ...\n",
            "208    เป็นร้านกาแฟที่มีบรรยากาศคลาสสิคย้อนยุค แต่ให้...\n",
            "209    สวัสดีค่ะ มาต่อร้านกาแฟน่ารักๆ แถวพัทยาต่อเลยค...\n",
            "212    แดดเริ่มร่ม ลมเริ่มตกก็ถึงเพลานั่งจิบชากาแฟตาม...\n",
            "213    ชอบมาทานมัฟฟิ่นช็อคโกแล็ต สตอเบอรี่ บูลเบอรี่ ...\n",
            "215    สวัสดีค่ะ วันนี้มาร่วมงานปาร์ตี้กับเพจอาซาฮีแล...\n",
            "216    พอดีมีโอกาสแวะไปหาพี่ชายที่จังหวัดระยอง พี่ชาย...\n",
            "217    ร้านเค้ก homemade นุ่มละมุน โดยเฉพาะ mocha cho...\n",
            "218    ร้านอเมซอนร้านนี้ ตั้งอยู่ภายในปั้ม ปตท.(แต่เด...\n",
            "221    เว้นว่างในการ รีวิว มาพักนึงแล้ว วันนี้เแาซะหน...\n",
            "223    ร้านคาเฟ่ชิวๆร้านนี้ตั้งอยู่ที่ชั้น 1 ห้างมาบุ...\n",
            "225    เบเกอร์รี่อร่อยดี มีให้เลือกหลากหลาย ไอติมมีหล...\n",
            "228    ข้อมูลที่ลงรีวิวเป็นความเห็นส่วนตัวที่ได้พบเจอ...\n",
            "229    ร้านกาแฟร้านนี้จะเป็นสไตล์อาร์ตๆศิลปิน อาจจะเป...\n",
            "231    กาแฟอร่อยยมากกกกก กินแล้วรู้สึกดี ซื้อกินเกือบ...\n",
            "233    แค่แวะไปทานกาแฟค่ะ กาแฟร้อนทุกอย่าง 85 บาท แม้...\n",
            "237    เป็นร้านที่เดินผ่านแล้วหอมกาแฟจังเลย ยั่วยวนมา...\n",
            "241    ร้าน Vista Cafe เป็นอีกหนึ่งร้านกาแฟน่ารัก ที่...\n",
            "247    ปกติชอบทานพวกแป้งหรือขนมปังค่ะ และร้านนี้ก็เป็...\n",
            "251    ร้านนี้เป็นอีกร้านที่เหมาะสำหรับคอกาแฟหรือคนที...\n",
            "253    ร้านcoffee way เขาบายศรี (คนจันท์เรียกท่าจุ๊ย!...\n",
            "256    ถ้าใครไม่อยากพาคุณแม่ไปกินอาหารหนักๆ หรือไม่อย...\n",
            "259    ในวันนี้นายลักกี้ก็ยังคงตระเวนกินอยู่ที่ตลาดน้...\n",
            "263    ครัวจันผา เขาใหญ่\\nสวัสดีค่ะ วันนี้พวกเรากว่า ...\n",
            "266    \\n\\nแถวเสนานิคมใกล้ๆ กับหมู่บ้านอมรพันธ์ ตรงป้...\n",
            "267    ร้านนี้เป็นร้านกาแฟที่พิถีพิถันในทุกขั้นตอนจนไ...\n",
            "269    เจอร้านครั้งแรกตะลึงกับความอลังการของร้านมากๆ ...\n",
            "272    เรือนกาแฟ By Pupe' ร้านกาแฟชิลๆ ของดีเจปูเป้ ว...\n",
            "277    ร้่านฝ้ายเป็นร้านคู่กับเมืองเชียงใหม่มานาน อยู...\n",
            "278    ร้านตำนานป่าเป็นร้านอาหารชื่อดังของจังหวัดระยอ...\n",
            "279    รีวิวในครั้งนี้ไม่ใช่สเต็กในร้าน steak lao นะค...\n",
            "280    วันนี้ไปตระเวนนั่งร้านกาแฟเปิดใหม่ จู่ๆก็นึกถึ...\n",
            "281    เกี่ยวกับร้านโชว์ฮ่วย: \\nร้านนี้ตั้งอยู่ที่เดี...\n",
            "283    ร้านแบ่งเป็น 3 โซน\\n1.นั่งรอ\\n2. โต๊ะกิน - no ...\n",
            "284    ผมชอบร้านกาแฟในเครือ อเมซอน ซ่งส่วนใหญ่เปิดในป...\n",
            "285    ร้านนี้ก็เป็นกาแฟท๊อปฮิตในใจใครหลายๆ คน (อย่าง...\n",
            "288    ร้านพายจริณ เป็นร้านคาเฟ่และเบเกอรี่เล็กๆที่มี...\n",
            "290    เมื่อวานไปเดินเล่นเดอะมอลล์บางแค แล้วเห็นร้าน ...\n",
            "292    ร้านกาแฟน่ารักๆ ในปั๊มนํ้ามันปิโตรนาสบนเส้นทาง...\n",
            "296    ร้านสะอาดดี ตกแต่งสวยงาม มีที่จอดรถ ราคาเมนูต่...\n",
            "297    เช้าๆ รีบๆ วิ่งมาเข่าห้องเรียนแทบไม่ทันแต่ต้อง...\n",
            "298    ร้านนี้เป็นร้านกาแฟเล็กๆ ข้างๆ ร้านๆ Happy Man...\n",
            "299    ทรูคอฟฟี่สาขาซีคอนอยู่ในศูนย์บริการของทรู ชั้น...\n",
            "\n",
            "13     เคยเป็นไหมกันไหมคะ หลังอาหารมื้อใหญ่ ต่อให้อิ่...\n",
            "20     เช้าๆบ่ายๆหรือเย็นๆ อาหารว่างที่คนเรามักหยิบจั...\n",
            "23     ระหว่างมุ่งหน้าสู่ชัยภูมิ เราแวะเติมพลังกันที่...\n",
            "29     เป็นร้านเครื่องดื่มขนาดกระทัดรัด พื้นที่น้อย เ...\n",
            "30     ร้านขายเครื่องดื่มผลิตภัณฑ์ชาเขียว ไอศรีมชาเขี...\n",
            "31     ชานมไข่มุก จริงๆคืออ้วนมาก\\nไม่ค่อยอยากกินเลย\\...\n",
            "34     เดินผ่านร้านนี้มาหลายครั้งแล้วค่ะ สังเกตว่าร้า...\n",
            "42     ร้านอยู่โซนซุ้มขายของเล็กๆตรงกลางนะคะ ใกล้ๆกับ...\n",
            "44     บนห้าง Big-C ราชดำริ นิวคุงได้ไปเจอร้านขายน้ำท...\n",
            "47     ...น่าจะใช่นะ Ochaya มีสาขาเยอะมากๆทั้งตึกออฟฟ...\n",
            "58     ร้าน April store เป็นร้านกาแฟขนาดเล็ก ตั้งอยู่...\n",
            "61     วันนี้มาเดินเที่ยวสยามคะ ถ้าชาไข่มุกอร่อยๆต้อง...\n",
            "66     ร้าน April store อยู่บริเวณสวนของ ยู เซ็นเตอร์...\n",
            "74     วันก่อนนิวคุงไปเดินเล่นหาอะไรกินในย่านหอการค้า...\n",
            "84     วันนี้ได้ฤกษ์มารีวิวร้านชานมไข่มุก ร้านที่โปรด...\n",
            "87     เป็นคนชอบทานชาไข่มุก ลองมาแล้วหลายร้าน ติดใจรส...\n",
            "90     ร้าน A Little Sweet เป็นร้านของหวานสไตล์ desse...\n",
            "93     \\n\\n\\n\\n\\nร้าน Dakasi เป็นร้านเครื่องดื่มครับ ...\n",
            "97     ร้านวโรชา เป็นร้านก๋วยเตี๋ยวเล็กๆ ที่เปิดมานาน...\n",
            "106    ร้านชานมไข่มุกร้านนี้ที่เราจะมาแนะนำมีชื่อร้าย...\n",
            "107    จากโปรโมชั่นของ openrice ทำให้ได้ลองชิมชายี่ห้...\n",
            "117    ร้านที่สองที่ผมจะมารีวิวในวันนี้ เป็นร้านที่ขา...\n",
            "121    มาเดินโฮมโปร กับหลาน คุณหลานเกิดอยากดื่มชานมหว...\n",
            "122    Tea Story ร้านชานมไข่มุกกิ๊บเก๋ตั้งอยู่กลางห้า...\n",
            "131    เป็นร้านที่ตั้งอยุตรงถนนนิมมานเลย เห็นแต่ไกล ร...\n",
            "132    เครปพันชั้น! ไปมาหลายหนแล้ว แต่ไม่เคยรีวิว\\nจั...\n",
            "133    เล่าตอนที่ไปถึงร้าน\\nร้าน นมโจ 100% เป็นร้านขา...\n",
            "134    ของหวานฝรั่งเศสสไตล์ญี่ปุ่น เป็นอาหารที่ถูกจับ...\n",
            "137    อยากจะบอกไปตามตรงเลยว่า ร้านนี้แหล่ะร้านชานมไข...\n",
            "146    ข้อมูลที่ลงรีวิวเป็นความเห็นส่วนตัวที่ได้พบเจอ...\n",
            "148    ร้านไอศครีมน่ารักๆ เหมาะกับพาครอบครัวมานั่งทาน...\n",
            "152    เป็นร้านที่แวะเติมความหวานบ่อยมาก\\n>>Location\\...\n",
            "166    ร้านนี้เป็นแหล่งรวมเครื่องดื่มนานาชนิดทั้งนม ช...\n",
            "173    จะว่าไปผมก็ไม่ได้ทานชาไข่มุกมานานเหมือนกันครับ...\n",
            "175    ลักษณะร้าน : เป็นร้านนม ที่ขายในช่วงเวลาเย็นๆถ...\n",
            "176    เมื่อวานไปเดิน Terminal 21 ค่ะ อยากลองอะไรใหม่...\n",
            "189    ร้าน ไออุ่น ชาไข่มุก มีนํ้าปั่นหลากหลายรสชาติ ...\n",
            "190    Wawa Cha ร้านชานมไข่มุกจากไต้หวันภายใต้การบริห...\n",
            "192    [สถานที่ตั้ง]\\nThe Mall Bangkapi Fl.4 (ตรงข้าม...\n",
            "200    ร้านอยู่ Big C สุขาภิบาล 5 ติดร้าน Oriental\\nP...\n",
            "211    ร้านนี้เป็นร้านขายขนมปังปิ้งแล้วก็น้ำปั่นอยู่ห...\n",
            "219    ประโยชน์ของน้ำแตงโมปั่น\\nแตงโม มีมากมายหลายพัน...\n",
            "234    ทานชาเขียวกีวี่+ไข่มุกเป็นประจำค่ะ \\nทานกี่สาข...\n",
            "236    ร้านนี้เป็นร้านเล็กๆที่ตั้งอยู่เเถวสยาม ตรงข้า...\n",
            "238    นึกถึงชานมไข่มุกต้นตำหรับไต้หวันแท้ๆ ต้องนึกถึ...\n",
            "239    ร้านนี้มีรีวิวมากมายยย....เลยตามรอยเหล่านักรีว...\n",
            "242    Dakasi ร้านชานมไข่มุกสูตรไต้หวันที่ตอนนี้มีสาข...\n",
            "250    นานๆ ทีจะได้มาทำธุระที่เซ็นทรัลปิ่นเกล้า เดินๆ...\n",
            "258    Fuku matcha อยู่ชั้นเดียวกับโรงหนัง sf เดอะมอล...\n",
            "271    หลายคนคงเคยได้ยินข่าวว่าทานชานมไข่มุกมากๆไม่ดี...\n",
            "287    มา Ochaya สั่งแบบเมนู basic เลย ชานมไข่มุก ราค...\n",
            "294    ร้านบ้านไร่กาแฟเป็นร้านติด BTS เอกมัย ร้านใหญ่...\n",
            "\n"
          ]
        }
      ]
    },
    {
      "cell_type": "code",
      "metadata": {
        "id": "JydvwIz5NcaI"
      },
      "source": [
        "#create regex compiler for removal of a character you don't want\n",
        "\n",
        "special_characters = \"/[!@#$%^&*']/g\"\n",
        "\n",
        "specialchar_pattern = re.compile(special_characters)"
      ],
      "execution_count": 361,
      "outputs": []
    },
    {
      "cell_type": "code",
      "metadata": {
        "id": "R8ymEA_2EhGi"
      },
      "source": [
        "#create regex compiler for removal of any emoji\n",
        "\n",
        "emoji_pattern = re.compile(\"[\"\n",
        "        u\"\\U0001F600-\\U0001F64F\"  # emoticons\n",
        "        u\"\\U0001F300-\\U0001F5FF\"  # symbols & pictographs\n",
        "        u\"\\U0001F680-\\U0001F6FF\"  # transport & map symbols\n",
        "        u\"\\U0001F1E0-\\U0001F1FF\"  # flags (iOS)\n",
        "                           \"]+\", flags=re.UNICODE)"
      ],
      "execution_count": 362,
      "outputs": []
    },
    {
      "cell_type": "code",
      "metadata": {
        "id": "9Q93YKJZK5ak"
      },
      "source": [
        "#create regex compiler for removal of digit\n",
        "\n",
        "number_pattern = re.compile(\"[0-9]\")"
      ],
      "execution_count": 363,
      "outputs": []
    },
    {
      "cell_type": "code",
      "metadata": {
        "id": "sHZ0HKlXNeSi"
      },
      "source": [
        "#create regex compiler for removal of white space\n",
        "\n",
        "space_pattern = re.compile(\"\\s+\")"
      ],
      "execution_count": 364,
      "outputs": []
    },
    {
      "cell_type": "code",
      "metadata": {
        "id": "-orHzqLkNupd"
      },
      "source": [
        "#create regex compiler for removal of .\n",
        "\n",
        "dot_pattern = re.compile(r\"\\.+\")"
      ],
      "execution_count": 365,
      "outputs": []
    },
    {
      "cell_type": "code",
      "metadata": {
        "id": "v7bW9th9N7oG"
      },
      "source": [
        "#create regex compiler for removal of \\\n",
        "\n",
        "backslash_pattern = re.compile(r\"\\\\+\")"
      ],
      "execution_count": 366,
      "outputs": []
    },
    {
      "cell_type": "code",
      "metadata": {
        "id": "ZGVvQhZz4tGs"
      },
      "source": [
        "#define a function to tokenize a sentence into words - you can define words you want to remove as well as new words for tokenization\n",
        "\n",
        "stopwords = list(pythainlp.corpus.thai_stopwords())\n",
        "removed_words = ['u', 'b', 'n', 'nn', 'nn-', '\\n', 'ร้าน','ทาน','กิน','เมนู','สั่ง','อาหาร','ราคา','(',')',',','ผม','ดิชั้น','[','ดิ','ชั้น','โมง','-','.']\n",
        "screening_words = stopwords + removed_words\n",
        "\n",
        "new_words = {\"สตารบัก\"}\n",
        "\n",
        "words = new_words.union(thai_words())\n",
        "\n",
        "custom_dictionary_trie = Trie(words)\n",
        "\n",
        "def tokenize_to_list(sentence):\n",
        "  merged = []\n",
        "  words = pythainlp.word_tokenize(str(sentence), engine='newmm', custom_dict=custom_dictionary_trie)\n",
        "  for word in words:\n",
        "    if word not in screening_words:\n",
        "      merged.append(word)\n",
        "  return merged"
      ],
      "execution_count": 367,
      "outputs": []
    },
    {
      "cell_type": "code",
      "metadata": {
        "id": "MnN1ekEoL9ug"
      },
      "source": [
        "#clean and tokenize sentences. count the occurences of each word\n",
        "\n",
        "df_kmeans['texts'] = df_kmeans['texts'].apply(lambda x: emoji_pattern.sub(r'', x))\n",
        "df_kmeans['texts'] = df_kmeans['texts'].apply(lambda x: specialchar_pattern.sub(r'', x))\n",
        "df_kmeans['texts'] = df_kmeans['texts'].apply(lambda x: number_pattern.sub(r'', x))\n",
        "df_kmeans['texts'] = df_kmeans['texts'].apply(lambda x: space_pattern.sub(r'', x))\n",
        "df_kmeans['texts'] = df_kmeans['texts'].apply(lambda x: dot_pattern.sub(r'', x))\n",
        "df_kmeans['texts'] = df_kmeans['texts'].apply(lambda x: backslash_pattern.sub(r'', x))\n",
        "df_kmeans['texts_tokenized'] = df_kmeans['texts'].apply(lambda x: tokenize_to_list(x))\n",
        "df_kmeans['texts_count'] = df_kmeans['texts_tokenized'].apply(lambda x: collections.Counter(x).most_common())"
      ],
      "execution_count": 368,
      "outputs": []
    },
    {
      "cell_type": "code",
      "metadata": {
        "colab": {
          "base_uri": "https://localhost:8080/",
          "height": 142
        },
        "id": "G0jG1yO889B2",
        "outputId": "ccc3a63f-1342-4192-ae5b-96582d8c4f24"
      },
      "source": [
        "#results of tokenization\n",
        "\n",
        "df_kmeans"
      ],
      "execution_count": 369,
      "outputs": [
        {
          "output_type": "execute_result",
          "data": {
            "text/html": [
              "<div>\n",
              "<style scoped>\n",
              "    .dataframe tbody tr th:only-of-type {\n",
              "        vertical-align: middle;\n",
              "    }\n",
              "\n",
              "    .dataframe tbody tr th {\n",
              "        vertical-align: top;\n",
              "    }\n",
              "\n",
              "    .dataframe thead th {\n",
              "        text-align: right;\n",
              "    }\n",
              "</style>\n",
              "<table border=\"1\" class=\"dataframe\">\n",
              "  <thead>\n",
              "    <tr style=\"text-align: right;\">\n",
              "      <th></th>\n",
              "      <th>KMeans ID</th>\n",
              "      <th>texts</th>\n",
              "      <th>texts_tokenized</th>\n",
              "      <th>texts_count</th>\n",
              "    </tr>\n",
              "  </thead>\n",
              "  <tbody>\n",
              "    <tr>\n",
              "      <th>0</th>\n",
              "      <td>0</td>\n",
              "      <td>กวงทะเลเผาอาหารทะเลเค้าสดจริงๆเนื้อปูหวานไม่คว...</td>\n",
              "      <td>[กวง, ทะเล, เผา, อาหารทะเล, เค้า, สด, เนื้อ, ป...</td>\n",
              "      <td>[(ร้านอาหาร, 14), (อร่อย, 11), (กก, 10), (บ้าน...</td>\n",
              "    </tr>\n",
              "    <tr>\n",
              "      <th>1</th>\n",
              "      <td>1</td>\n",
              "      <td>เป็นคนที่ชอบทานMacchiatoเป็นประจำมีวันนึงเดArt...</td>\n",
              "      <td>[คน, ชอบ, Macchiato, เป็นประจำ, นึง, เด, Artof...</td>\n",
              "      <td>[(ร้านกาแฟ, 25), (กาแฟ, 23), (ชอบ, 11), (คาเฟ่...</td>\n",
              "    </tr>\n",
              "    <tr>\n",
              "      <th>2</th>\n",
              "      <td>2</td>\n",
              "      <td>เคยเป็นไหมกันไหมคะหลังอาหารมื้อใหญ่ต่อให้อิ่เช...</td>\n",
              "      <td>[ไหม, ไหม, หลังอาหาร, มื้อ, ต่อให้, อิ่, เช้า,...</td>\n",
              "      <td>[(ชา, 18), (นม, 14), (ไข่มุก, 14), (รีวิว, 5),...</td>\n",
              "    </tr>\n",
              "  </tbody>\n",
              "</table>\n",
              "</div>"
            ],
            "text/plain": [
              "  KMeans ID  ...                                        texts_count\n",
              "0         0  ...  [(ร้านอาหาร, 14), (อร่อย, 11), (กก, 10), (บ้าน...\n",
              "1         1  ...  [(ร้านกาแฟ, 25), (กาแฟ, 23), (ชอบ, 11), (คาเฟ่...\n",
              "2         2  ...  [(ชา, 18), (นม, 14), (ไข่มุก, 14), (รีวิว, 5),...\n",
              "\n",
              "[3 rows x 4 columns]"
            ]
          },
          "metadata": {},
          "execution_count": 369
        }
      ]
    },
    {
      "cell_type": "code",
      "metadata": {
        "colab": {
          "base_uri": "https://localhost:8080/"
        },
        "id": "n0LZ5H8_Dqvn",
        "outputId": "e6738120-1745-4676-ad4b-0473491214eb"
      },
      "source": [
        "#show top keywords of each cluster\n",
        "\n",
        "top_N_words = 10\n",
        "\n",
        "for i in range(0, len(df_kmeans)):\n",
        "  print(f\"Cluster ID : {i}\\n\")\n",
        "  print(f\"Most common words include : {list(df_kmeans['texts_count'][i])[:top_N_words]}\\n\")\n",
        "\n",
        "#tune a model by remove unwanted characters and words and add more words to a custom dictionary"
      ],
      "execution_count": 370,
      "outputs": [
        {
          "output_type": "stream",
          "name": "stdout",
          "text": [
            "Cluster ID : 0\n",
            "\n",
            "Most common words include : [('ร้านอาหาร', 14), ('อร่อย', 11), ('กก', 10), ('บ้าน', 6), ('รีวิว', 6), ('ส้มตำ', 6), ('ซอย', 6), ('สาขา', 6), ('เพื่อน', 5), ('ไทย', 5)]\n",
            "\n",
            "Cluster ID : 1\n",
            "\n",
            "Most common words include : [('ร้านกาแฟ', 25), ('กาแฟ', 23), ('ชอบ', 11), ('คาเฟ่', 6), ('น', 6), ('แวะ', 6), ('ดี', 6), ('รี่', 5), ('อร่อย', 5), ('กา', 5)]\n",
            "\n",
            "Cluster ID : 2\n",
            "\n",
            "Most common words include : [('ชา', 18), ('นม', 14), ('ไข่มุก', 14), ('รีวิว', 5), ('เครื่องดื่ม', 4), ('ร้า', 3), ('น้ำ', 3), ('ตั้งอยู่', 3), ('ลอง', 3), ('เดิน', 3)]\n",
            "\n"
          ]
        }
      ]
    },
    {
      "cell_type": "markdown",
      "metadata": {
        "id": "9Qe8TReCQTOo"
      },
      "source": [
        "**Step 3 - document clustering using Agglomorative Clustering with cosine similarity**"
      ]
    },
    {
      "cell_type": "code",
      "metadata": {
        "id": "VWgW-tCkcPgU"
      },
      "source": [
        "#clustering using agglomorative clustering\n",
        "\n",
        "knn_graph = kneighbors_graph(embed_comments_array, 5, include_self=False)\n",
        "model = AgglomerativeClustering(linkage=\"average\", connectivity=knn_graph, n_clusters=k, affinity=\"cosine\")\n",
        "model.fit(embed_comments_array)\n",
        "df['Agglomerative ID'] = model.labels_"
      ],
      "execution_count": 371,
      "outputs": []
    },
    {
      "cell_type": "code",
      "metadata": {
        "id": "XHfsJyL8dmGC"
      },
      "source": [
        "#merge all reviews of each cluster into one big sentence \n",
        "\n",
        "df_Agglomerative = pd.DataFrame(columns=[\"Agglomerative ID\", \"texts\"])\n",
        "\n",
        "\n",
        "for i in range(0, k):\n",
        "  row = []\n",
        "  row.append(i)\n",
        "  row.append(str(df['Review'][df['Agglomerative ID'] == i].tolist()))\n",
        "  df_Agglomerative.loc[len(df_Agglomerative)] = row"
      ],
      "execution_count": 372,
      "outputs": []
    },
    {
      "cell_type": "code",
      "metadata": {
        "id": "7hsSbTWvdtK2"
      },
      "source": [
        "#clean and tokenize sentences. count the occurences of each word\n",
        "\n",
        "df_Agglomerative['texts'] = df_Agglomerative['texts'].apply(lambda x: emoji_pattern.sub(r'', x))\n",
        "df_Agglomerative['texts'] = df_Agglomerative['texts'].apply(lambda x: specialchar_pattern.sub(r'', x))\n",
        "df_Agglomerative['texts'] = df_Agglomerative['texts'].apply(lambda x: number_pattern.sub(r'', x))\n",
        "df_Agglomerative['texts'] = df_Agglomerative['texts'].apply(lambda x: space_pattern.sub(r'', x))\n",
        "df_Agglomerative['texts'] = df_Agglomerative['texts'].apply(lambda x: dot_pattern.sub(r'', x))\n",
        "df_Agglomerative['texts'] = df_Agglomerative['texts'].apply(lambda x: backslash_pattern.sub(r'', x))\n",
        "df_Agglomerative['texts_tokenized'] = df_Agglomerative['texts'].apply(lambda x: tokenize_to_list(x))\n",
        "df_Agglomerative['texts_count'] = df_Agglomerative['texts_tokenized'].apply(lambda x: collections.Counter(x).most_common())"
      ],
      "execution_count": 373,
      "outputs": []
    },
    {
      "cell_type": "code",
      "metadata": {
        "colab": {
          "base_uri": "https://localhost:8080/"
        },
        "id": "HsRWk5oHd0UH",
        "outputId": "991bd147-12c7-4284-9803-cc8f989f4149"
      },
      "source": [
        "#show top keywords of each cluster\n",
        "\n",
        "top_N_words = 10\n",
        "\n",
        "for i in range(0, len(df_Agglomerative)):\n",
        "  print(f\"Cluster ID : {i}\\n\")\n",
        "  print(f\"Most common words include : {list(df_Agglomerative['texts_count'][i])[:top_N_words]}\\n\")"
      ],
      "execution_count": 374,
      "outputs": [
        {
          "output_type": "stream",
          "name": "stdout",
          "text": [
            "Cluster ID : 0\n",
            "\n",
            "Most common words include : [('อร่อย', 509), ('รสชาติ', 414), ('ดี', 348), ('กาแฟ', 315), ('ชา', 264), ('บาท', 242), ('ชอบ', 232), (\"','\", 219), ('คน', 217), ('หวาน', 206)]\n",
            "\n",
            "Cluster ID : 1\n",
            "\n",
            "Most common words include : [('แตงโม', 22), ('น้ำ', 8), ('ปั่น', 6), ('เนื้อ', 6), ('เลือก', 4), ('ซื้อ', 4), ('ดื่ม', 4), ('พันธุ์', 3), ('รับประทาน', 3), ('แก้', 3)]\n",
            "\n",
            "Cluster ID : 2\n",
            "\n",
            "Most common words include : [('ปัง', 4), ('ภูเขาไฟ', 3), ('ๆๆๆ', 2), (\"['\", 1), ('อ่', 1), ('กา', 1), ('ศ', 1), ('ร้อน', 1), ('เข้ากัน', 1), ('ฝุดๆ', 1)]\n",
            "\n"
          ]
        }
      ]
    },
    {
      "cell_type": "markdown",
      "metadata": {
        "id": "3aNJxg2ATtmK"
      },
      "source": [
        "**Step 4 - result discussion**"
      ]
    },
    {
      "cell_type": "markdown",
      "metadata": {
        "id": "cQ2SOjNKT1d7"
      },
      "source": [
        "ใช้ model K-Mean ธรรมดาให้ชุดคำที่ดูเป็นหมวดหมู่มากกว่า Agglomorative Clustering\n",
        "\n",
        "Cluster ID : 0 --> ร้านอาหารไทย - ส้มตำ\n",
        "\n",
        "Most common words include : [('ร้านอาหาร', 14), ('อร่อย', 11), ('กก', 10), ('บ้าน', 6), ('รีวิว', 6), ('ส้มตำ', 6), ('ซอย', 6), ('สาขา', 6), ('เพื่อน', 5), ('ไทย', 5)]\n",
        "\n",
        "Cluster ID : 1 --> คาเฟ่ / ร้านกาแฟ\n",
        "\n",
        "Most common words include : [('ร้านกาแฟ', 25), ('กาแฟ', 23), ('ชอบ', 11), ('คาเฟ่', 6), ('น', 6), ('แวะ', 6), ('ดี', 6), ('รี่', 5), ('อร่อย', 5), ('กา', 5)]\n",
        "\n",
        "Cluster ID : 2 --> ชานมไข่มุก\n",
        "\n",
        "Most common words include : [('ชา', 18), ('นม', 14), ('ไข่มุก', 14), ('รีวิว', 5), ('เครื่องดื่ม', 4), ('ร้า', 3), ('น้ำ', 3), ('ตั้งอยู่', 3), ('ลอง', 3), ('เดิน', 3)]"
      ]
    },
    {
      "cell_type": "code",
      "metadata": {
        "id": "IdCwV73eTB2N"
      },
      "source": [
        ""
      ],
      "execution_count": 374,
      "outputs": []
    }
  ]
}